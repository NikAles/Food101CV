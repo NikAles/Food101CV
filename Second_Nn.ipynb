{
  "cells": [
    {
      "cell_type": "markdown",
      "id": "bafbf4c3",
      "metadata": {},
      "source": [
        "#### Библиотеки, девайс и функции"
      ]
    },
    {
      "cell_type": "code",
      "execution_count": null,
      "id": "b7481803",
      "metadata": {
        "id": "b7481803"
      },
      "outputs": [],
      "source": [
        "import torch\n",
        "import torchvision\n",
        "import matplotlib.pyplot as plt\n",
        "from pathlib import Path\n",
        "from torchvision.transforms import ToTensor\n",
        "from torchvision import transforms\n",
        "from torch.utils.data import DataLoader\n",
        "import os\n",
        "from torch import nn\n",
        "from tqdm.auto import tqdm\n",
        "from torchvision import models\n",
        "from torchinfo import summary\n",
        "from torchvision.datasets import Food101"
      ]
    },
    {
      "cell_type": "code",
      "execution_count": 3,
      "id": "442c5b7a",
      "metadata": {
        "colab": {
          "base_uri": "https://localhost:8080/",
          "height": 35
        },
        "id": "442c5b7a",
        "outputId": "cdd54cfe-a7ad-4521-fc11-fd07b5f396a1"
      },
      "outputs": [
        {
          "data": {
            "application/vnd.google.colaboratory.intrinsic+json": {
              "type": "string"
            },
            "text/plain": [
              "'cuda'"
            ]
          },
          "execution_count": 3,
          "metadata": {},
          "output_type": "execute_result"
        }
      ],
      "source": [
        "from torch.cuda import is_available\n",
        "device = \"cuda\" if is_available() else \"cpu\"\n",
        "device"
      ]
    },
    {
      "cell_type": "code",
      "execution_count": 4,
      "id": "d3ca9f11",
      "metadata": {
        "id": "d3ca9f11"
      },
      "outputs": [],
      "source": [
        "def make_data(train_data, test_data, batch_size, num_workers):\n",
        "\n",
        "    #train_data = torchvision.datasets.ImageFolder(root=train_dir_path, transform=trans)\n",
        "    #test_data = torchvision.datasets.ImageFolder(root=test_dir_path, transform=trans)\n",
        "\n",
        "    train_dataloader = DataLoader(dataset=train_data,\n",
        "    batch_size=batch_size,\n",
        "    shuffle=True,\n",
        "    pin_memory=True,\n",
        "    num_workers=num_workers)\n",
        "    test_dataloader = DataLoader(dataset=test_data,\n",
        "    batch_size=batch_size,\n",
        "    shuffle=True,\n",
        "    pin_memory=True,\n",
        "    num_workers=num_workers)\n",
        "    classes_names = train_data.classes\n",
        "\n",
        "    return train_dataloader, test_dataloader, classes_names"
      ]
    },
    {
      "cell_type": "code",
      "execution_count": 5,
      "id": "397acbb1",
      "metadata": {
        "id": "397acbb1"
      },
      "outputs": [],
      "source": [
        "def accuracy_fn(y_true, y_pred):\n",
        "    correct = torch.eq(y_true, y_pred).sum().item()\n",
        "    acc = (correct/len(y_pred)) * 100\n",
        "    return acc"
      ]
    },
    {
      "cell_type": "code",
      "execution_count": 6,
      "id": "74cb983f",
      "metadata": {
        "id": "74cb983f"
      },
      "outputs": [],
      "source": [
        "def plots(train_loss_values, train_acc_values, test_loss_values, test_acc_values, train_epoch_count, test_epoch_count):\n",
        "    plt.subplot(2, 1, 1)\n",
        "    plt.plot(train_epoch_count, train_acc_values, c='g', label='Train Acc')\n",
        "    plt.plot(train_epoch_count, test_acc_values, c='r', label='Test ACC')\n",
        "    plt.title('Acc')\n",
        "    plt.legend()\n",
        "    plt.subplot(2, 1, 2)\n",
        "    plt.plot(train_epoch_count, train_loss_values, c='blue', label=\"Train Loss\")\n",
        "    plt.plot(train_epoch_count, test_loss_values, c='orange', label=\"Test Loss\")\n",
        "    plt.title('Loss')\n",
        "    plt.legend();"
      ]
    },
    {
      "cell_type": "code",
      "execution_count": 7,
      "id": "15a8a063",
      "metadata": {
        "id": "15a8a063"
      },
      "outputs": [],
      "source": [
        "def save_model(model, MODEL_PATH, model_name):\n",
        "    SAVE_PATH = MODEL_PATH / model_name\n",
        "    torch.save(obj = model.state_dict(),\n",
        "               f = SAVE_PATH)\n",
        "    print(f\"Saved to: {SAVE_PATH}\")"
      ]
    },
    {
      "cell_type": "code",
      "execution_count": 8,
      "id": "407f906a",
      "metadata": {
        "id": "407f906a"
      },
      "outputs": [],
      "source": [
        "def train_model(model, train_dataloader, test_dataloader, loss_fn, optimizer, accuracy_fn, epochs, device):\n",
        "    train_epoch_count = []\n",
        "    train_loss_values = []\n",
        "    train_acc_values = []\n",
        "    test_epoch_count = []\n",
        "    test_loss_values = []\n",
        "    test_acc_values = []\n",
        "    #epochs = 10\n",
        "    for epoch in tqdm(range(epochs)):\n",
        "        # Train Block\n",
        "        ls_loss = 0\n",
        "        ls_acc = 0\n",
        "\n",
        "        model.train()\n",
        "\n",
        "        for batch, (X, y) in enumerate(train_dataloader):\n",
        "            X, y = X.to(device), y.to(device)\n",
        "            #y = y.type(torch.long)\n",
        "\n",
        "            logits = model(X).squeeze()\n",
        "            preds = torch.argmax(torch.softmax(logits, dim=1),dim=1)\n",
        "            #print(X.shape, y.shape, logits.shape)\n",
        "            loss = loss_fn(logits, y)\n",
        "            acc = accuracy_fn(y_true = y, y_pred = preds)\n",
        "            optimizer.zero_grad()\n",
        "            loss.backward()\n",
        "            optimizer.step()\n",
        "\n",
        "            ls_loss += loss.item()\n",
        "            ls_acc += acc\n",
        "            if batch % 400 == 0:\n",
        "                print(f\"Epoch: {epoch+1} | Batch: {batch}...\")\n",
        "        mean_loss = ls_loss / len(train_dataloader)\n",
        "        mean_acc = ls_acc / len(train_dataloader)\n",
        "        train_loss_values.append(loss.item())\n",
        "        train_acc_values.append(acc)\n",
        "        train_epoch_count.append(epoch+1)\n",
        "        print(f\"Epoch: {epoch+1} | Loss: {mean_loss:.4f} | Acc: {mean_acc:.2f}%\")\n",
        "\n",
        "\n",
        "        # Test Block\n",
        "        ls_loss, ls_acc = 0, 0\n",
        "\n",
        "        model.eval()\n",
        "\n",
        "        for batch, (X, y) in enumerate(test_dataloader):\n",
        "            with torch.inference_mode():\n",
        "                X, y = X.to(device), y.to(device)\n",
        "                #y = y.type(torch.long)\n",
        "                mean_loss, mean_acc = 0, 0\n",
        "                logits = model(X).squeeze()\n",
        "                preds = torch.argmax(torch.softmax(logits, dim=1),dim=1)\n",
        "                loss = loss_fn(logits, y)\n",
        "                acc = accuracy_fn(y_true = y,y_pred = preds)\n",
        "                ls_loss += loss.item()\n",
        "                ls_acc += acc\n",
        "                if batch % 300 == 0:\n",
        "                    print(f\"TEST :    Epoch: {epoch+1} | Batch: {batch}...\")\n",
        "        mean_loss = ls_loss / len(test_dataloader)\n",
        "        mean_acc = ls_acc / len(test_dataloader)\n",
        "        test_loss_values.append(loss.item())\n",
        "        test_acc_values.append(acc)\n",
        "        test_epoch_count.append(epoch+1)\n",
        "        print(f\"TEST :    Epoch: {epoch+1} | Loss: {mean_loss:.4f} | Acc: {mean_acc:.2f}%\\n\\n\")\n",
        "    return train_loss_values, train_acc_values, test_loss_values, test_acc_values, train_epoch_count, test_epoch_count"
      ]
    },
    {
      "cell_type": "markdown",
      "id": "8d9d68e8",
      "metadata": {
        "id": "8d9d68e8"
      },
      "source": [
        "# ViT_b_16"
      ]
    },
    {
      "cell_type": "code",
      "execution_count": null,
      "id": "1490b02b",
      "metadata": {
        "colab": {
          "base_uri": "https://localhost:8080/"
        },
        "id": "1490b02b",
        "outputId": "e776d7d4-6734-43d4-d91b-f1bfa1f5b08b"
      },
      "outputs": [
        {
          "name": "stderr",
          "output_type": "stream",
          "text": [
            "100%|██████████| 5.00G/5.00G [03:19<00:00, 25.1MB/s]\n",
            "100%|██████████| 5.00G/5.00G [03:59<00:00, 20.9MB/s]\n"
          ]
        },
        {
          "data": {
            "text/plain": [
              "(<torch.utils.data.dataloader.DataLoader at 0x7d42062e0650>,\n",
              " <torch.utils.data.dataloader.DataLoader at 0x7d42062e0b10>,\n",
              " ['apple_pie',\n",
              "  'baby_back_ribs',\n",
              "  'baklava',\n",
              "  'beef_carpaccio',\n",
              "  'beef_tartare',\n",
              "  'beet_salad',\n",
              "  'beignets',\n",
              "  'bibimbap',\n",
              "  'bread_pudding',\n",
              "  'breakfast_burrito'],\n",
              " ImageClassification(\n",
              "     crop_size=[224]\n",
              "     resize_size=[256]\n",
              "     mean=[0.485, 0.456, 0.406]\n",
              "     std=[0.229, 0.224, 0.225]\n",
              "     interpolation=InterpolationMode.BILINEAR\n",
              " ))"
            ]
          },
          "execution_count": 17,
          "metadata": {},
          "output_type": "execute_result"
        }
      ],
      "source": [
        "# получение весов модели и трансформации модели\n",
        "ViT_b_16_weights = models.ViT_B_16_Weights.DEFAULT\n",
        "auto_transform = ViT_b_16_weights.transforms()\n",
        "# получение датасета с транформацией\n",
        "train_data = Food101(root=\"data/train\",\n",
        "                     split=\"train\",\n",
        "                     download=True,\n",
        "                     transform=                  auto_transform)\n",
        "test_data = Food101(root=\"data/test\",\n",
        "                     split=\"test\",\n",
        "                     download=True,\n",
        "                     transform=                  auto_transform)\n",
        "\n",
        "cpu_c = os.cpu_count()\n",
        "BATCH_SIZE = 32\n",
        "# получение даталоадеров и списка классов\n",
        "train_dataloader, test_dataloader, classes_names = make_data(train_data, test_data, batch_size=BATCH_SIZE, num_workers=cpu_c)\n",
        "train_dataloader, test_dataloader, classes_names[:10], auto_transform"
      ]
    },
    {
      "cell_type": "code",
      "execution_count": null,
      "id": "15d7c1ba",
      "metadata": {},
      "outputs": [],
      "source": [
        "ViT_b_16 = models.vit_b_16(weights=ViT_b_16_weights).to(device)\n",
        "auto_transform = ViT_b_16.transforms()"
      ]
    },
    {
      "cell_type": "code",
      "execution_count": null,
      "id": "49df5fbf",
      "metadata": {},
      "outputs": [],
      "source": [
        "ViT_b_16.heads.head = nn.Linear(in_features=768, out_features=101, bias=True).to(device)"
      ]
    },
    {
      "cell_type": "code",
      "execution_count": null,
      "id": "P86iAVRBUMg9",
      "metadata": {
        "colab": {
          "base_uri": "https://localhost:8080/"
        },
        "id": "P86iAVRBUMg9",
        "outputId": "0d3d0b40-418e-4969-9f69-bec1845b5f76"
      },
      "outputs": [
        {
          "data": {
            "text/plain": [
              "============================================================================================================================================\n",
              "Layer (type (var_name))                                      Input Shape          Output Shape         Param #              Trainable\n",
              "============================================================================================================================================\n",
              "VisionTransformer (VisionTransformer)                        [32, 3, 224, 224]    [32, 101]            768                  True\n",
              "├─Conv2d (conv_proj)                                         [32, 3, 224, 224]    [32, 768, 14, 14]    590,592              True\n",
              "├─Encoder (encoder)                                          [32, 197, 768]       [32, 197, 768]       151,296              True\n",
              "│    └─Dropout (dropout)                                     [32, 197, 768]       [32, 197, 768]       --                   --\n",
              "│    └─Sequential (layers)                                   [32, 197, 768]       [32, 197, 768]       --                   True\n",
              "│    │    └─EncoderBlock (encoder_layer_0)                   [32, 197, 768]       [32, 197, 768]       7,087,872            True\n",
              "│    │    └─EncoderBlock (encoder_layer_1)                   [32, 197, 768]       [32, 197, 768]       7,087,872            True\n",
              "│    │    └─EncoderBlock (encoder_layer_2)                   [32, 197, 768]       [32, 197, 768]       7,087,872            True\n",
              "│    │    └─EncoderBlock (encoder_layer_3)                   [32, 197, 768]       [32, 197, 768]       7,087,872            True\n",
              "│    │    └─EncoderBlock (encoder_layer_4)                   [32, 197, 768]       [32, 197, 768]       7,087,872            True\n",
              "│    │    └─EncoderBlock (encoder_layer_5)                   [32, 197, 768]       [32, 197, 768]       7,087,872            True\n",
              "│    │    └─EncoderBlock (encoder_layer_6)                   [32, 197, 768]       [32, 197, 768]       7,087,872            True\n",
              "│    │    └─EncoderBlock (encoder_layer_7)                   [32, 197, 768]       [32, 197, 768]       7,087,872            True\n",
              "│    │    └─EncoderBlock (encoder_layer_8)                   [32, 197, 768]       [32, 197, 768]       7,087,872            True\n",
              "│    │    └─EncoderBlock (encoder_layer_9)                   [32, 197, 768]       [32, 197, 768]       7,087,872            True\n",
              "│    │    └─EncoderBlock (encoder_layer_10)                  [32, 197, 768]       [32, 197, 768]       7,087,872            True\n",
              "│    │    └─EncoderBlock (encoder_layer_11)                  [32, 197, 768]       [32, 197, 768]       7,087,872            True\n",
              "│    └─LayerNorm (ln)                                        [32, 197, 768]       [32, 197, 768]       1,536                True\n",
              "├─Sequential (heads)                                         [32, 768]            [32, 101]            --                   True\n",
              "│    └─Linear (head)                                         [32, 768]            [32, 101]            77,669               True\n",
              "============================================================================================================================================\n",
              "Total params: 85,876,325\n",
              "Trainable params: 85,876,325\n",
              "Non-trainable params: 0\n",
              "Total mult-adds (Units.GIGABYTES): 5.52\n",
              "============================================================================================================================================\n",
              "Input size (MB): 19.27\n",
              "Forward/backward pass size (MB): 3330.76\n",
              "Params size (MB): 229.50\n",
              "Estimated Total Size (MB): 3579.53\n",
              "============================================================================================================================================"
            ]
          },
          "execution_count": 14,
          "metadata": {},
          "output_type": "execute_result"
        }
      ],
      "source": [
        "summary(model=ViT_b_16,input_size=(32, 3, 224, 224),col_names=['input_size', 'output_size',\"num_params\", 'trainable'],col_width=20,row_settings=['var_names'])"
      ]
    },
    {
      "cell_type": "code",
      "execution_count": null,
      "id": "a0763f8b",
      "metadata": {},
      "outputs": [],
      "source": [
        "for params in ViT_b_16.parameters():\n",
        "        params.requires_grad=False\n",
        "\n",
        "for params in ViT_b_16.heads.parameters():\n",
        "        params.requires_grad=True"
      ]
    },
    {
      "cell_type": "code",
      "execution_count": null,
      "id": "Dta_AcmDyGwG",
      "metadata": {
        "colab": {
          "base_uri": "https://localhost:8080/"
        },
        "id": "Dta_AcmDyGwG",
        "outputId": "121197f7-f2a0-4565-a573-658f7e803c75"
      },
      "outputs": [
        {
          "data": {
            "text/plain": [
              "============================================================================================================================================\n",
              "Layer (type (var_name))                                      Input Shape          Output Shape         Param #              Trainable\n",
              "============================================================================================================================================\n",
              "VisionTransformer (VisionTransformer)                        [32, 3, 224, 224]    [32, 101]            768                  Partial\n",
              "├─Conv2d (conv_proj)                                         [32, 3, 224, 224]    [32, 768, 14, 14]    (590,592)            False\n",
              "├─Encoder (encoder)                                          [32, 197, 768]       [32, 197, 768]       151,296              False\n",
              "│    └─Dropout (dropout)                                     [32, 197, 768]       [32, 197, 768]       --                   --\n",
              "│    └─Sequential (layers)                                   [32, 197, 768]       [32, 197, 768]       --                   False\n",
              "│    │    └─EncoderBlock (encoder_layer_0)                   [32, 197, 768]       [32, 197, 768]       (7,087,872)          False\n",
              "│    │    └─EncoderBlock (encoder_layer_1)                   [32, 197, 768]       [32, 197, 768]       (7,087,872)          False\n",
              "│    │    └─EncoderBlock (encoder_layer_2)                   [32, 197, 768]       [32, 197, 768]       (7,087,872)          False\n",
              "│    │    └─EncoderBlock (encoder_layer_3)                   [32, 197, 768]       [32, 197, 768]       (7,087,872)          False\n",
              "│    │    └─EncoderBlock (encoder_layer_4)                   [32, 197, 768]       [32, 197, 768]       (7,087,872)          False\n",
              "│    │    └─EncoderBlock (encoder_layer_5)                   [32, 197, 768]       [32, 197, 768]       (7,087,872)          False\n",
              "│    │    └─EncoderBlock (encoder_layer_6)                   [32, 197, 768]       [32, 197, 768]       (7,087,872)          False\n",
              "│    │    └─EncoderBlock (encoder_layer_7)                   [32, 197, 768]       [32, 197, 768]       (7,087,872)          False\n",
              "│    │    └─EncoderBlock (encoder_layer_8)                   [32, 197, 768]       [32, 197, 768]       (7,087,872)          False\n",
              "│    │    └─EncoderBlock (encoder_layer_9)                   [32, 197, 768]       [32, 197, 768]       (7,087,872)          False\n",
              "│    │    └─EncoderBlock (encoder_layer_10)                  [32, 197, 768]       [32, 197, 768]       (7,087,872)          False\n",
              "│    │    └─EncoderBlock (encoder_layer_11)                  [32, 197, 768]       [32, 197, 768]       (7,087,872)          False\n",
              "│    └─LayerNorm (ln)                                        [32, 197, 768]       [32, 197, 768]       (1,536)              False\n",
              "├─Sequential (heads)                                         [32, 768]            [32, 101]            --                   True\n",
              "│    └─Linear (head)                                         [32, 768]            [32, 101]            77,669               True\n",
              "============================================================================================================================================\n",
              "Total params: 85,876,325\n",
              "Trainable params: 78,437\n",
              "Non-trainable params: 85,797,888\n",
              "Total mult-adds (Units.GIGABYTES): 5.52\n",
              "============================================================================================================================================\n",
              "Input size (MB): 19.27\n",
              "Forward/backward pass size (MB): 3330.76\n",
              "Params size (MB): 229.50\n",
              "Estimated Total Size (MB): 3579.53\n",
              "============================================================================================================================================"
            ]
          },
          "execution_count": 16,
          "metadata": {},
          "output_type": "execute_result"
        }
      ],
      "source": [
        "summary(model=ViT_b_16,input_size=(32, 3, 224, 224),col_names=['input_size', 'output_size',\"num_params\", 'trainable'],col_width=20,row_settings=['var_names'])"
      ]
    },
    {
      "cell_type": "code",
      "execution_count": null,
      "id": "5b84b930",
      "metadata": {
        "colab": {
          "base_uri": "https://localhost:8080/",
          "height": 710,
          "referenced_widgets": [
            "115d6d0082d1466b94f0767bb3b60dec",
            "91958250a55841488007de5d7e035a5a",
            "c241546d83d34e23b59343e294380c54",
            "312d0681f3994dde81b9a55344ad873f",
            "7eec8f619d55468ebd7afc60bab99f44",
            "5035b7cc3d724a4196406a1b6d002fd6",
            "67712e0bdf744ee9b816adf6aa89cd06",
            "d0f36b5934db42478379b7fec145af1d",
            "6009fb12778840aeb1dc3236a94e2805",
            "d21e0cada8ef4696b4738818b56d0f02",
            "28b45f143d714eb6bed22adbec0d0275"
          ]
        },
        "id": "5b84b930",
        "outputId": "2e4cb15e-2d0f-47cc-899e-f07998e16df6"
      },
      "outputs": [
        {
          "data": {
            "application/vnd.jupyter.widget-view+json": {
              "model_id": "115d6d0082d1466b94f0767bb3b60dec",
              "version_major": 2,
              "version_minor": 0
            },
            "text/plain": [
              "  0%|          | 0/1 [00:00<?, ?it/s]"
            ]
          },
          "metadata": {},
          "output_type": "display_data"
        },
        {
          "name": "stdout",
          "output_type": "stream",
          "text": [
            "Epoch: 1 | Batch: 0...\n",
            "Epoch: 1 | Batch: 400...\n",
            "Epoch: 1 | Batch: 800...\n",
            "Epoch: 1 | Batch: 1200...\n",
            "Epoch: 1 | Batch: 1600...\n",
            "Epoch: 1 | Batch: 2000...\n",
            "Epoch: 1 | Loss: 0.8640 | Acc: 77.79%\n",
            "TEST :    Epoch: 1 | Batch: 0...\n",
            "TEST :    Epoch: 1 | Batch: 300...\n",
            "TEST :    Epoch: 1 | Batch: 600...\n",
            "TEST :    Epoch: 1 | Loss: 0.8018 | Acc: 78.61%\n",
            "\n",
            "\n"
          ]
        },
        {
          "data": {
            "image/png": "[encoded data removed]",
            "text/plain": [
              "<Figure size 640x480 with 2 Axes>"
            ]
          },
          "metadata": {},
          "output_type": "display_data"
        }
      ],
      "source": [
        "optimizer = torch.optim.SGD(ViT_b_16.parameters(),\n",
        "                              lr=0.01)\n",
        "loss_fn = nn.CrossEntropyLoss()\n",
        "\n",
        "train_loss_values_ViT_b_16, train_acc_values_ViT_b_16, test_loss_values_ViT_b_16, test_acc_values_ViT_b_16, train_epoch_count_ViT_b_16, test_epoch_count_ViT_b_16 = train_model(\n",
        "    model=ViT_b_16, train_dataloader=train_dataloader, test_dataloader=test_dataloader,\n",
        "            optimizer=optimizer, loss_fn=loss_fn ,accuracy_fn=accuracy_fn, epochs=1, device=device)\n",
        "\n",
        "plots(train_loss_values_ViT_b_16, train_acc_values_ViT_b_16, test_loss_values_ViT_b_16, test_acc_values_ViT_b_16, train_epoch_count_ViT_b_16, test_epoch_count_ViT_b_16)"
      ]
    },
    {
      "cell_type": "code",
      "execution_count": null,
      "id": "myES8aiLF4wV",
      "metadata": {
        "colab": {
          "base_uri": "https://localhost:8080/",
          "height": 321
        },
        "id": "myES8aiLF4wV",
        "outputId": "327ed4be-7058-4c4b-b504-2fe516cf3c8d"
      },
      "outputs": [
        {
          "ename": "RuntimeError",
          "evalue": "Parent directory /content/transfer_learnin_models does not exist.",
          "output_type": "error",
          "traceback": [
            "\u001b[0;31m---------------------------------------------------------------------------\u001b[0m",
            "\u001b[0;31mRuntimeError\u001b[0m                              Traceback (most recent call last)",
            "\u001b[0;32m/tmp/ipython-input-16-3179660372.py\u001b[0m in \u001b[0;36m<cell line: 0>\u001b[0;34m()\u001b[0m\n\u001b[1;32m      2\u001b[0m \u001b[0mMODEL_NAME_vIT_AFTER_5EPOCHS\u001b[0m \u001b[0;34m=\u001b[0m \u001b[0;34m\"vIT_AFTER_5EPOCHS_dict.pth\"\u001b[0m\u001b[0;34m\u001b[0m\u001b[0;34m\u001b[0m\u001b[0m\n\u001b[1;32m      3\u001b[0m \u001b[0mMODEL_PATH_vIT_AFTER_5EPOCHS\u001b[0m \u001b[0;34m/\u001b[0m \u001b[0mMODEL_NAME_vIT_AFTER_5EPOCHS\u001b[0m\u001b[0;34m\u001b[0m\u001b[0;34m\u001b[0m\u001b[0m\n\u001b[0;32m----> 4\u001b[0;31m \u001b[0msave_model\u001b[0m\u001b[0;34m(\u001b[0m\u001b[0mloaded_ViT_b_16\u001b[0m\u001b[0;34m,\u001b[0m \u001b[0mMODEL_PATH_vIT_AFTER_5EPOCHS\u001b[0m\u001b[0;34m,\u001b[0m \u001b[0mMODEL_NAME_vIT_AFTER_5EPOCHS\u001b[0m\u001b[0;34m)\u001b[0m\u001b[0;34m\u001b[0m\u001b[0;34m\u001b[0m\u001b[0m\n\u001b[0m",
            "\u001b[0;32m/tmp/ipython-input-7-1406962952.py\u001b[0m in \u001b[0;36msave_model\u001b[0;34m(model, MODEL_PATH, model_name)\u001b[0m\n\u001b[1;32m      1\u001b[0m \u001b[0;32mdef\u001b[0m \u001b[0msave_model\u001b[0m\u001b[0;34m(\u001b[0m\u001b[0mmodel\u001b[0m\u001b[0;34m,\u001b[0m \u001b[0mMODEL_PATH\u001b[0m\u001b[0;34m,\u001b[0m \u001b[0mmodel_name\u001b[0m\u001b[0;34m)\u001b[0m\u001b[0;34m:\u001b[0m\u001b[0;34m\u001b[0m\u001b[0;34m\u001b[0m\u001b[0m\n\u001b[1;32m      2\u001b[0m     \u001b[0mSAVE_PATH\u001b[0m \u001b[0;34m=\u001b[0m \u001b[0mMODEL_PATH\u001b[0m \u001b[0;34m/\u001b[0m \u001b[0mmodel_name\u001b[0m\u001b[0;34m\u001b[0m\u001b[0;34m\u001b[0m\u001b[0m\n\u001b[0;32m----> 3\u001b[0;31m     torch.save(obj = model.state_dict(),\n\u001b[0m\u001b[1;32m      4\u001b[0m                f = SAVE_PATH)\n\u001b[1;32m      5\u001b[0m     \u001b[0mprint\u001b[0m\u001b[0;34m(\u001b[0m\u001b[0;34mf\"Saved to: {SAVE_PATH}\"\u001b[0m\u001b[0;34m)\u001b[0m\u001b[0;34m\u001b[0m\u001b[0;34m\u001b[0m\u001b[0m\n",
            "\u001b[0;32m/usr/local/lib/python3.11/dist-packages/torch/serialization.py\u001b[0m in \u001b[0;36msave\u001b[0;34m(obj, f, pickle_module, pickle_protocol, _use_new_zipfile_serialization, _disable_byteorder_record)\u001b[0m\n\u001b[1;32m    941\u001b[0m \u001b[0;34m\u001b[0m\u001b[0m\n\u001b[1;32m    942\u001b[0m     \u001b[0;32mif\u001b[0m \u001b[0m_use_new_zipfile_serialization\u001b[0m\u001b[0;34m:\u001b[0m\u001b[0;34m\u001b[0m\u001b[0;34m\u001b[0m\u001b[0m\n\u001b[0;32m--> 943\u001b[0;31m         \u001b[0;32mwith\u001b[0m \u001b[0m_open_zipfile_writer\u001b[0m\u001b[0;34m(\u001b[0m\u001b[0mf\u001b[0m\u001b[0;34m)\u001b[0m \u001b[0;32mas\u001b[0m \u001b[0mopened_zipfile\u001b[0m\u001b[0;34m:\u001b[0m\u001b[0;34m\u001b[0m\u001b[0;34m\u001b[0m\u001b[0m\n\u001b[0m\u001b[1;32m    944\u001b[0m             _save(\n\u001b[1;32m    945\u001b[0m                 \u001b[0mobj\u001b[0m\u001b[0;34m,\u001b[0m\u001b[0;34m\u001b[0m\u001b[0;34m\u001b[0m\u001b[0m\n",
            "\u001b[0;32m/usr/local/lib/python3.11/dist-packages/torch/serialization.py\u001b[0m in \u001b[0;36m_open_zipfile_writer\u001b[0;34m(name_or_buffer)\u001b[0m\n\u001b[1;32m    808\u001b[0m     \u001b[0;32melse\u001b[0m\u001b[0;34m:\u001b[0m\u001b[0;34m\u001b[0m\u001b[0;34m\u001b[0m\u001b[0m\n\u001b[1;32m    809\u001b[0m         \u001b[0mcontainer\u001b[0m \u001b[0;34m=\u001b[0m \u001b[0m_open_zipfile_writer_buffer\u001b[0m\u001b[0;34m\u001b[0m\u001b[0;34m\u001b[0m\u001b[0m\n\u001b[0;32m--> 810\u001b[0;31m     \u001b[0;32mreturn\u001b[0m \u001b[0mcontainer\u001b[0m\u001b[0;34m(\u001b[0m\u001b[0mname_or_buffer\u001b[0m\u001b[0;34m)\u001b[0m\u001b[0;34m\u001b[0m\u001b[0;34m\u001b[0m\u001b[0m\n\u001b[0m\u001b[1;32m    811\u001b[0m \u001b[0;34m\u001b[0m\u001b[0m\n\u001b[1;32m    812\u001b[0m \u001b[0;34m\u001b[0m\u001b[0m\n",
            "\u001b[0;32m/usr/local/lib/python3.11/dist-packages/torch/serialization.py\u001b[0m in \u001b[0;36m__init__\u001b[0;34m(self, name)\u001b[0m\n\u001b[1;32m    779\u001b[0m             )\n\u001b[1;32m    780\u001b[0m         \u001b[0;32melse\u001b[0m\u001b[0;34m:\u001b[0m\u001b[0;34m\u001b[0m\u001b[0;34m\u001b[0m\u001b[0m\n\u001b[0;32m--> 781\u001b[0;31m             \u001b[0msuper\u001b[0m\u001b[0;34m(\u001b[0m\u001b[0;34m)\u001b[0m\u001b[0;34m.\u001b[0m\u001b[0m__init__\u001b[0m\u001b[0;34m(\u001b[0m\u001b[0mtorch\u001b[0m\u001b[0;34m.\u001b[0m\u001b[0m_C\u001b[0m\u001b[0;34m.\u001b[0m\u001b[0mPyTorchFileWriter\u001b[0m\u001b[0;34m(\u001b[0m\u001b[0mself\u001b[0m\u001b[0;34m.\u001b[0m\u001b[0mname\u001b[0m\u001b[0;34m,\u001b[0m \u001b[0m_compute_crc32\u001b[0m\u001b[0;34m)\u001b[0m\u001b[0;34m)\u001b[0m\u001b[0;34m\u001b[0m\u001b[0;34m\u001b[0m\u001b[0m\n\u001b[0m\u001b[1;32m    782\u001b[0m \u001b[0;34m\u001b[0m\u001b[0m\n\u001b[1;32m    783\u001b[0m     \u001b[0;32mdef\u001b[0m \u001b[0m__exit__\u001b[0m\u001b[0;34m(\u001b[0m\u001b[0mself\u001b[0m\u001b[0;34m,\u001b[0m \u001b[0;34m*\u001b[0m\u001b[0margs\u001b[0m\u001b[0;34m)\u001b[0m \u001b[0;34m->\u001b[0m \u001b[0;32mNone\u001b[0m\u001b[0;34m:\u001b[0m\u001b[0;34m\u001b[0m\u001b[0;34m\u001b[0m\u001b[0m\n",
            "\u001b[0;31mRuntimeError\u001b[0m: Parent directory /content/transfer_learnin_models does not exist."
          ]
        }
      ],
      "source": [
        "MODEL_PATH_vIT_AFTER_5EPOCHS = Path(\"/models\")\n",
        "MODEL_NAME_vIT_AFTER_5EPOCHS = \"second_model_TiV_16_b.pth\"\n",
        "MODEL_PATH_vIT_AFTER_5EPOCHS / MODEL_NAME_vIT_AFTER_5EPOCHS\n",
        "save_model(ViT_b_16, MODEL_PATH_vIT_AFTER_5EPOCHS, MODEL_NAME_vIT_AFTER_5EPOCHS)"
      ]
    }
  ],
  "metadata": {
    "accelerator": "TPU",
    "colab": {
      "gpuType": "V28",
      "provenance": []
    },
    "kernelspec": {
      "display_name": "Python 3",
      "name": "python3"
    },
    "language_info": {
      "codemirror_mode": {
        "name": "ipython",
        "version": 3
      },
      "file_extension": ".py",
      "mimetype": "text/x-python",
      "name": "python",
      "nbconvert_exporter": "python",
      "pygments_lexer": "ipython3",
      "version": "3.13.5"
    },
    "widgets": {
      "application/vnd.jupyter.widget-state+json": {
        "115d6d0082d1466b94f0767bb3b60dec": {
          "model_module": "@jupyter-widgets/controls",
          "model_module_version": "1.5.0",
          "model_name": "HBoxModel",
          "state": {
            "_dom_classes": [],
            "_model_module": "@jupyter-widgets/controls",
            "_model_module_version": "1.5.0",
            "_model_name": "HBoxModel",
            "_view_count": null,
            "_view_module": "@jupyter-widgets/controls",
            "_view_module_version": "1.5.0",
            "_view_name": "HBoxView",
            "box_style": "",
            "children": [
              "IPY_MODEL_91958250a55841488007de5d7e035a5a",
              "IPY_MODEL_c241546d83d34e23b59343e294380c54",
              "IPY_MODEL_312d0681f3994dde81b9a55344ad873f"
            ],
            "layout": "IPY_MODEL_7eec8f619d55468ebd7afc60bab99f44"
          }
        },
        "1c550d5fbe024ed4aa1ad21f5deb8dfe": {
          "model_module": "@jupyter-widgets/controls",
          "model_module_version": "1.5.0",
          "model_name": "HTMLModel",
          "state": {
            "_dom_classes": [],
            "_model_module": "@jupyter-widgets/controls",
            "_model_module_version": "1.5.0",
            "_model_name": "HTMLModel",
            "_view_count": null,
            "_view_module": "@jupyter-widgets/controls",
            "_view_module_version": "1.5.0",
            "_view_name": "HTMLView",
            "description": "",
            "description_tooltip": null,
            "layout": "IPY_MODEL_456b5908cd604df2901d9f39795209a5",
            "placeholder": "​",
            "style": "IPY_MODEL_3e1c06c3f3b74063b3b81883f79d9069",
            "value": "100%"
          }
        },
        "28b45f143d714eb6bed22adbec0d0275": {
          "model_module": "@jupyter-widgets/controls",
          "model_module_version": "1.5.0",
          "model_name": "DescriptionStyleModel",
          "state": {
            "_model_module": "@jupyter-widgets/controls",
            "_model_module_version": "1.5.0",
            "_model_name": "DescriptionStyleModel",
            "_view_count": null,
            "_view_module": "@jupyter-widgets/base",
            "_view_module_version": "1.2.0",
            "_view_name": "StyleView",
            "description_width": ""
          }
        },
        "312d0681f3994dde81b9a55344ad873f": {
          "model_module": "@jupyter-widgets/controls",
          "model_module_version": "1.5.0",
          "model_name": "HTMLModel",
          "state": {
            "_dom_classes": [],
            "_model_module": "@jupyter-widgets/controls",
            "_model_module_version": "1.5.0",
            "_model_name": "HTMLModel",
            "_view_count": null,
            "_view_module": "@jupyter-widgets/controls",
            "_view_module_version": "1.5.0",
            "_view_name": "HTMLView",
            "description": "",
            "description_tooltip": null,
            "layout": "IPY_MODEL_d21e0cada8ef4696b4738818b56d0f02",
            "placeholder": "​",
            "style": "IPY_MODEL_28b45f143d714eb6bed22adbec0d0275",
            "value": " 1/1 [38:44&lt;00:00, 2324.54s/it]"
          }
        },
        "396650eed3794481b0299f2d4139c806": {
          "model_module": "@jupyter-widgets/controls",
          "model_module_version": "1.5.0",
          "model_name": "HTMLModel",
          "state": {
            "_dom_classes": [],
            "_model_module": "@jupyter-widgets/controls",
            "_model_module_version": "1.5.0",
            "_model_name": "HTMLModel",
            "_view_count": null,
            "_view_module": "@jupyter-widgets/controls",
            "_view_module_version": "1.5.0",
            "_view_name": "HTMLView",
            "description": "",
            "description_tooltip": null,
            "layout": "IPY_MODEL_e69d378521d1475ba5a71e35ee116507",
            "placeholder": "​",
            "style": "IPY_MODEL_b7a02b18bc1044e1bedda2cd684bdd4c",
            "value": "100%"
          }
        },
        "3e1c06c3f3b74063b3b81883f79d9069": {
          "model_module": "@jupyter-widgets/controls",
          "model_module_version": "1.5.0",
          "model_name": "DescriptionStyleModel",
          "state": {
            "_model_module": "@jupyter-widgets/controls",
            "_model_module_version": "1.5.0",
            "_model_name": "DescriptionStyleModel",
            "_view_count": null,
            "_view_module": "@jupyter-widgets/base",
            "_view_module_version": "1.2.0",
            "_view_name": "StyleView",
            "description_width": ""
          }
        },
        "4416029014684684b0d5b2fbaf08fca0": {
          "model_module": "@jupyter-widgets/controls",
          "model_module_version": "1.5.0",
          "model_name": "ProgressStyleModel",
          "state": {
            "_model_module": "@jupyter-widgets/controls",
            "_model_module_version": "1.5.0",
            "_model_name": "ProgressStyleModel",
            "_view_count": null,
            "_view_module": "@jupyter-widgets/base",
            "_view_module_version": "1.2.0",
            "_view_name": "StyleView",
            "bar_color": null,
            "description_width": ""
          }
        },
        "456b5908cd604df2901d9f39795209a5": {
          "model_module": "@jupyter-widgets/base",
          "model_module_version": "1.2.0",
          "model_name": "LayoutModel",
          "state": {
            "_model_module": "@jupyter-widgets/base",
            "_model_module_version": "1.2.0",
            "_model_name": "LayoutModel",
            "_view_count": null,
            "_view_module": "@jupyter-widgets/base",
            "_view_module_version": "1.2.0",
            "_view_name": "LayoutView",
            "align_content": null,
            "align_items": null,
            "align_self": null,
            "border": null,
            "bottom": null,
            "display": null,
            "flex": null,
            "flex_flow": null,
            "grid_area": null,
            "grid_auto_columns": null,
            "grid_auto_flow": null,
            "grid_auto_rows": null,
            "grid_column": null,
            "grid_gap": null,
            "grid_row": null,
            "grid_template_areas": null,
            "grid_template_columns": null,
            "grid_template_rows": null,
            "height": null,
            "justify_content": null,
            "justify_items": null,
            "left": null,
            "margin": null,
            "max_height": null,
            "max_width": null,
            "min_height": null,
            "min_width": null,
            "object_fit": null,
            "object_position": null,
            "order": null,
            "overflow": null,
            "overflow_x": null,
            "overflow_y": null,
            "padding": null,
            "right": null,
            "top": null,
            "visibility": null,
            "width": null
          }
        },
        "5035b7cc3d724a4196406a1b6d002fd6": {
          "model_module": "@jupyter-widgets/base",
          "model_module_version": "1.2.0",
          "model_name": "LayoutModel",
          "state": {
            "_model_module": "@jupyter-widgets/base",
            "_model_module_version": "1.2.0",
            "_model_name": "LayoutModel",
            "_view_count": null,
            "_view_module": "@jupyter-widgets/base",
            "_view_module_version": "1.2.0",
            "_view_name": "LayoutView",
            "align_content": null,
            "align_items": null,
            "align_self": null,
            "border": null,
            "bottom": null,
            "display": null,
            "flex": null,
            "flex_flow": null,
            "grid_area": null,
            "grid_auto_columns": null,
            "grid_auto_flow": null,
            "grid_auto_rows": null,
            "grid_column": null,
            "grid_gap": null,
            "grid_row": null,
            "grid_template_areas": null,
            "grid_template_columns": null,
            "grid_template_rows": null,
            "height": null,
            "justify_content": null,
            "justify_items": null,
            "left": null,
            "margin": null,
            "max_height": null,
            "max_width": null,
            "min_height": null,
            "min_width": null,
            "object_fit": null,
            "object_position": null,
            "order": null,
            "overflow": null,
            "overflow_x": null,
            "overflow_y": null,
            "padding": null,
            "right": null,
            "top": null,
            "visibility": null,
            "width": null
          }
        },
        "54b9c0aa70f941b69c4e7d69f2f0f44f": {
          "model_module": "@jupyter-widgets/controls",
          "model_module_version": "1.5.0",
          "model_name": "HTMLModel",
          "state": {
            "_dom_classes": [],
            "_model_module": "@jupyter-widgets/controls",
            "_model_module_version": "1.5.0",
            "_model_name": "HTMLModel",
            "_view_count": null,
            "_view_module": "@jupyter-widgets/controls",
            "_view_module_version": "1.5.0",
            "_view_name": "HTMLView",
            "description": "",
            "description_tooltip": null,
            "layout": "IPY_MODEL_a1a26205fec04f1199200e60406df15c",
            "placeholder": "​",
            "style": "IPY_MODEL_a88e2da249be4ac389ad4e8036eea17c",
            "value": " 10/10 [1:41:16&lt;00:00, 604.19s/it]"
          }
        },
        "54c4d73da34642eeacc41e7d76178286": {
          "model_module": "@jupyter-widgets/base",
          "model_module_version": "1.2.0",
          "model_name": "LayoutModel",
          "state": {
            "_model_module": "@jupyter-widgets/base",
            "_model_module_version": "1.2.0",
            "_model_name": "LayoutModel",
            "_view_count": null,
            "_view_module": "@jupyter-widgets/base",
            "_view_module_version": "1.2.0",
            "_view_name": "LayoutView",
            "align_content": null,
            "align_items": null,
            "align_self": null,
            "border": null,
            "bottom": null,
            "display": null,
            "flex": null,
            "flex_flow": null,
            "grid_area": null,
            "grid_auto_columns": null,
            "grid_auto_flow": null,
            "grid_auto_rows": null,
            "grid_column": null,
            "grid_gap": null,
            "grid_row": null,
            "grid_template_areas": null,
            "grid_template_columns": null,
            "grid_template_rows": null,
            "height": null,
            "justify_content": null,
            "justify_items": null,
            "left": null,
            "margin": null,
            "max_height": null,
            "max_width": null,
            "min_height": null,
            "min_width": null,
            "object_fit": null,
            "object_position": null,
            "order": null,
            "overflow": null,
            "overflow_x": null,
            "overflow_y": null,
            "padding": null,
            "right": null,
            "top": null,
            "visibility": null,
            "width": null
          }
        },
        "6009fb12778840aeb1dc3236a94e2805": {
          "model_module": "@jupyter-widgets/controls",
          "model_module_version": "1.5.0",
          "model_name": "ProgressStyleModel",
          "state": {
            "_model_module": "@jupyter-widgets/controls",
            "_model_module_version": "1.5.0",
            "_model_name": "ProgressStyleModel",
            "_view_count": null,
            "_view_module": "@jupyter-widgets/base",
            "_view_module_version": "1.2.0",
            "_view_name": "StyleView",
            "bar_color": null,
            "description_width": ""
          }
        },
        "67712e0bdf744ee9b816adf6aa89cd06": {
          "model_module": "@jupyter-widgets/controls",
          "model_module_version": "1.5.0",
          "model_name": "DescriptionStyleModel",
          "state": {
            "_model_module": "@jupyter-widgets/controls",
            "_model_module_version": "1.5.0",
            "_model_name": "DescriptionStyleModel",
            "_view_count": null,
            "_view_module": "@jupyter-widgets/base",
            "_view_module_version": "1.2.0",
            "_view_name": "StyleView",
            "description_width": ""
          }
        },
        "6844663cb30e4d0c9511879a42bbb82b": {
          "model_module": "@jupyter-widgets/base",
          "model_module_version": "1.2.0",
          "model_name": "LayoutModel",
          "state": {
            "_model_module": "@jupyter-widgets/base",
            "_model_module_version": "1.2.0",
            "_model_name": "LayoutModel",
            "_view_count": null,
            "_view_module": "@jupyter-widgets/base",
            "_view_module_version": "1.2.0",
            "_view_name": "LayoutView",
            "align_content": null,
            "align_items": null,
            "align_self": null,
            "border": null,
            "bottom": null,
            "display": null,
            "flex": null,
            "flex_flow": null,
            "grid_area": null,
            "grid_auto_columns": null,
            "grid_auto_flow": null,
            "grid_auto_rows": null,
            "grid_column": null,
            "grid_gap": null,
            "grid_row": null,
            "grid_template_areas": null,
            "grid_template_columns": null,
            "grid_template_rows": null,
            "height": null,
            "justify_content": null,
            "justify_items": null,
            "left": null,
            "margin": null,
            "max_height": null,
            "max_width": null,
            "min_height": null,
            "min_width": null,
            "object_fit": null,
            "object_position": null,
            "order": null,
            "overflow": null,
            "overflow_x": null,
            "overflow_y": null,
            "padding": null,
            "right": null,
            "top": null,
            "visibility": null,
            "width": null
          }
        },
        "7cbbb5b79b9b416398a0aba055ac8bcc": {
          "model_module": "@jupyter-widgets/base",
          "model_module_version": "1.2.0",
          "model_name": "LayoutModel",
          "state": {
            "_model_module": "@jupyter-widgets/base",
            "_model_module_version": "1.2.0",
            "_model_name": "LayoutModel",
            "_view_count": null,
            "_view_module": "@jupyter-widgets/base",
            "_view_module_version": "1.2.0",
            "_view_name": "LayoutView",
            "align_content": null,
            "align_items": null,
            "align_self": null,
            "border": null,
            "bottom": null,
            "display": null,
            "flex": null,
            "flex_flow": null,
            "grid_area": null,
            "grid_auto_columns": null,
            "grid_auto_flow": null,
            "grid_auto_rows": null,
            "grid_column": null,
            "grid_gap": null,
            "grid_row": null,
            "grid_template_areas": null,
            "grid_template_columns": null,
            "grid_template_rows": null,
            "height": null,
            "justify_content": null,
            "justify_items": null,
            "left": null,
            "margin": null,
            "max_height": null,
            "max_width": null,
            "min_height": null,
            "min_width": null,
            "object_fit": null,
            "object_position": null,
            "order": null,
            "overflow": null,
            "overflow_x": null,
            "overflow_y": null,
            "padding": null,
            "right": null,
            "top": null,
            "visibility": null,
            "width": null
          }
        },
        "7eec8f619d55468ebd7afc60bab99f44": {
          "model_module": "@jupyter-widgets/base",
          "model_module_version": "1.2.0",
          "model_name": "LayoutModel",
          "state": {
            "_model_module": "@jupyter-widgets/base",
            "_model_module_version": "1.2.0",
            "_model_name": "LayoutModel",
            "_view_count": null,
            "_view_module": "@jupyter-widgets/base",
            "_view_module_version": "1.2.0",
            "_view_name": "LayoutView",
            "align_content": null,
            "align_items": null,
            "align_self": null,
            "border": null,
            "bottom": null,
            "display": null,
            "flex": null,
            "flex_flow": null,
            "grid_area": null,
            "grid_auto_columns": null,
            "grid_auto_flow": null,
            "grid_auto_rows": null,
            "grid_column": null,
            "grid_gap": null,
            "grid_row": null,
            "grid_template_areas": null,
            "grid_template_columns": null,
            "grid_template_rows": null,
            "height": null,
            "justify_content": null,
            "justify_items": null,
            "left": null,
            "margin": null,
            "max_height": null,
            "max_width": null,
            "min_height": null,
            "min_width": null,
            "object_fit": null,
            "object_position": null,
            "order": null,
            "overflow": null,
            "overflow_x": null,
            "overflow_y": null,
            "padding": null,
            "right": null,
            "top": null,
            "visibility": null,
            "width": null
          }
        },
        "841848dc17dd4c5080294064eaca0185": {
          "model_module": "@jupyter-widgets/controls",
          "model_module_version": "1.5.0",
          "model_name": "HBoxModel",
          "state": {
            "_dom_classes": [],
            "_model_module": "@jupyter-widgets/controls",
            "_model_module_version": "1.5.0",
            "_model_name": "HBoxModel",
            "_view_count": null,
            "_view_module": "@jupyter-widgets/controls",
            "_view_module_version": "1.5.0",
            "_view_name": "HBoxView",
            "box_style": "",
            "children": [
              "IPY_MODEL_1c550d5fbe024ed4aa1ad21f5deb8dfe",
              "IPY_MODEL_bea31a68ba3745c1b10591859555263e",
              "IPY_MODEL_f5758b64fbea4b76ae1ff920cfd4465b"
            ],
            "layout": "IPY_MODEL_54c4d73da34642eeacc41e7d76178286"
          }
        },
        "91958250a55841488007de5d7e035a5a": {
          "model_module": "@jupyter-widgets/controls",
          "model_module_version": "1.5.0",
          "model_name": "HTMLModel",
          "state": {
            "_dom_classes": [],
            "_model_module": "@jupyter-widgets/controls",
            "_model_module_version": "1.5.0",
            "_model_name": "HTMLModel",
            "_view_count": null,
            "_view_module": "@jupyter-widgets/controls",
            "_view_module_version": "1.5.0",
            "_view_name": "HTMLView",
            "description": "",
            "description_tooltip": null,
            "layout": "IPY_MODEL_5035b7cc3d724a4196406a1b6d002fd6",
            "placeholder": "​",
            "style": "IPY_MODEL_67712e0bdf744ee9b816adf6aa89cd06",
            "value": "100%"
          }
        },
        "a0d1f14b3f014f8da71acb8b2ff5a8f8": {
          "model_module": "@jupyter-widgets/controls",
          "model_module_version": "1.5.0",
          "model_name": "HBoxModel",
          "state": {
            "_dom_classes": [],
            "_model_module": "@jupyter-widgets/controls",
            "_model_module_version": "1.5.0",
            "_model_name": "HBoxModel",
            "_view_count": null,
            "_view_module": "@jupyter-widgets/controls",
            "_view_module_version": "1.5.0",
            "_view_name": "HBoxView",
            "box_style": "",
            "children": [
              "IPY_MODEL_396650eed3794481b0299f2d4139c806",
              "IPY_MODEL_ece49a52d3f8495ca63c4b0fe2c8cde4",
              "IPY_MODEL_54b9c0aa70f941b69c4e7d69f2f0f44f"
            ],
            "layout": "IPY_MODEL_ced912c5692243148de7f9db62646ebc"
          }
        },
        "a1a26205fec04f1199200e60406df15c": {
          "model_module": "@jupyter-widgets/base",
          "model_module_version": "1.2.0",
          "model_name": "LayoutModel",
          "state": {
            "_model_module": "@jupyter-widgets/base",
            "_model_module_version": "1.2.0",
            "_model_name": "LayoutModel",
            "_view_count": null,
            "_view_module": "@jupyter-widgets/base",
            "_view_module_version": "1.2.0",
            "_view_name": "LayoutView",
            "align_content": null,
            "align_items": null,
            "align_self": null,
            "border": null,
            "bottom": null,
            "display": null,
            "flex": null,
            "flex_flow": null,
            "grid_area": null,
            "grid_auto_columns": null,
            "grid_auto_flow": null,
            "grid_auto_rows": null,
            "grid_column": null,
            "grid_gap": null,
            "grid_row": null,
            "grid_template_areas": null,
            "grid_template_columns": null,
            "grid_template_rows": null,
            "height": null,
            "justify_content": null,
            "justify_items": null,
            "left": null,
            "margin": null,
            "max_height": null,
            "max_width": null,
            "min_height": null,
            "min_width": null,
            "object_fit": null,
            "object_position": null,
            "order": null,
            "overflow": null,
            "overflow_x": null,
            "overflow_y": null,
            "padding": null,
            "right": null,
            "top": null,
            "visibility": null,
            "width": null
          }
        },
        "a88e2da249be4ac389ad4e8036eea17c": {
          "model_module": "@jupyter-widgets/controls",
          "model_module_version": "1.5.0",
          "model_name": "DescriptionStyleModel",
          "state": {
            "_model_module": "@jupyter-widgets/controls",
            "_model_module_version": "1.5.0",
            "_model_name": "DescriptionStyleModel",
            "_view_count": null,
            "_view_module": "@jupyter-widgets/base",
            "_view_module_version": "1.2.0",
            "_view_name": "StyleView",
            "description_width": ""
          }
        },
        "b7a02b18bc1044e1bedda2cd684bdd4c": {
          "model_module": "@jupyter-widgets/controls",
          "model_module_version": "1.5.0",
          "model_name": "DescriptionStyleModel",
          "state": {
            "_model_module": "@jupyter-widgets/controls",
            "_model_module_version": "1.5.0",
            "_model_name": "DescriptionStyleModel",
            "_view_count": null,
            "_view_module": "@jupyter-widgets/base",
            "_view_module_version": "1.2.0",
            "_view_name": "StyleView",
            "description_width": ""
          }
        },
        "bea31a68ba3745c1b10591859555263e": {
          "model_module": "@jupyter-widgets/controls",
          "model_module_version": "1.5.0",
          "model_name": "FloatProgressModel",
          "state": {
            "_dom_classes": [],
            "_model_module": "@jupyter-widgets/controls",
            "_model_module_version": "1.5.0",
            "_model_name": "FloatProgressModel",
            "_view_count": null,
            "_view_module": "@jupyter-widgets/controls",
            "_view_module_version": "1.5.0",
            "_view_name": "ProgressView",
            "bar_style": "success",
            "description": "",
            "description_tooltip": null,
            "layout": "IPY_MODEL_6844663cb30e4d0c9511879a42bbb82b",
            "max": 10,
            "min": 0,
            "orientation": "horizontal",
            "style": "IPY_MODEL_4416029014684684b0d5b2fbaf08fca0",
            "value": 10
          }
        },
        "c241546d83d34e23b59343e294380c54": {
          "model_module": "@jupyter-widgets/controls",
          "model_module_version": "1.5.0",
          "model_name": "FloatProgressModel",
          "state": {
            "_dom_classes": [],
            "_model_module": "@jupyter-widgets/controls",
            "_model_module_version": "1.5.0",
            "_model_name": "FloatProgressModel",
            "_view_count": null,
            "_view_module": "@jupyter-widgets/controls",
            "_view_module_version": "1.5.0",
            "_view_name": "ProgressView",
            "bar_style": "success",
            "description": "",
            "description_tooltip": null,
            "layout": "IPY_MODEL_d0f36b5934db42478379b7fec145af1d",
            "max": 1,
            "min": 0,
            "orientation": "horizontal",
            "style": "IPY_MODEL_6009fb12778840aeb1dc3236a94e2805",
            "value": 1
          }
        },
        "ced912c5692243148de7f9db62646ebc": {
          "model_module": "@jupyter-widgets/base",
          "model_module_version": "1.2.0",
          "model_name": "LayoutModel",
          "state": {
            "_model_module": "@jupyter-widgets/base",
            "_model_module_version": "1.2.0",
            "_model_name": "LayoutModel",
            "_view_count": null,
            "_view_module": "@jupyter-widgets/base",
            "_view_module_version": "1.2.0",
            "_view_name": "LayoutView",
            "align_content": null,
            "align_items": null,
            "align_self": null,
            "border": null,
            "bottom": null,
            "display": null,
            "flex": null,
            "flex_flow": null,
            "grid_area": null,
            "grid_auto_columns": null,
            "grid_auto_flow": null,
            "grid_auto_rows": null,
            "grid_column": null,
            "grid_gap": null,
            "grid_row": null,
            "grid_template_areas": null,
            "grid_template_columns": null,
            "grid_template_rows": null,
            "height": null,
            "justify_content": null,
            "justify_items": null,
            "left": null,
            "margin": null,
            "max_height": null,
            "max_width": null,
            "min_height": null,
            "min_width": null,
            "object_fit": null,
            "object_position": null,
            "order": null,
            "overflow": null,
            "overflow_x": null,
            "overflow_y": null,
            "padding": null,
            "right": null,
            "top": null,
            "visibility": null,
            "width": null
          }
        },
        "d0f36b5934db42478379b7fec145af1d": {
          "model_module": "@jupyter-widgets/base",
          "model_module_version": "1.2.0",
          "model_name": "LayoutModel",
          "state": {
            "_model_module": "@jupyter-widgets/base",
            "_model_module_version": "1.2.0",
            "_model_name": "LayoutModel",
            "_view_count": null,
            "_view_module": "@jupyter-widgets/base",
            "_view_module_version": "1.2.0",
            "_view_name": "LayoutView",
            "align_content": null,
            "align_items": null,
            "align_self": null,
            "border": null,
            "bottom": null,
            "display": null,
            "flex": null,
            "flex_flow": null,
            "grid_area": null,
            "grid_auto_columns": null,
            "grid_auto_flow": null,
            "grid_auto_rows": null,
            "grid_column": null,
            "grid_gap": null,
            "grid_row": null,
            "grid_template_areas": null,
            "grid_template_columns": null,
            "grid_template_rows": null,
            "height": null,
            "justify_content": null,
            "justify_items": null,
            "left": null,
            "margin": null,
            "max_height": null,
            "max_width": null,
            "min_height": null,
            "min_width": null,
            "object_fit": null,
            "object_position": null,
            "order": null,
            "overflow": null,
            "overflow_x": null,
            "overflow_y": null,
            "padding": null,
            "right": null,
            "top": null,
            "visibility": null,
            "width": null
          }
        },
        "d21e0cada8ef4696b4738818b56d0f02": {
          "model_module": "@jupyter-widgets/base",
          "model_module_version": "1.2.0",
          "model_name": "LayoutModel",
          "state": {
            "_model_module": "@jupyter-widgets/base",
            "_model_module_version": "1.2.0",
            "_model_name": "LayoutModel",
            "_view_count": null,
            "_view_module": "@jupyter-widgets/base",
            "_view_module_version": "1.2.0",
            "_view_name": "LayoutView",
            "align_content": null,
            "align_items": null,
            "align_self": null,
            "border": null,
            "bottom": null,
            "display": null,
            "flex": null,
            "flex_flow": null,
            "grid_area": null,
            "grid_auto_columns": null,
            "grid_auto_flow": null,
            "grid_auto_rows": null,
            "grid_column": null,
            "grid_gap": null,
            "grid_row": null,
            "grid_template_areas": null,
            "grid_template_columns": null,
            "grid_template_rows": null,
            "height": null,
            "justify_content": null,
            "justify_items": null,
            "left": null,
            "margin": null,
            "max_height": null,
            "max_width": null,
            "min_height": null,
            "min_width": null,
            "object_fit": null,
            "object_position": null,
            "order": null,
            "overflow": null,
            "overflow_x": null,
            "overflow_y": null,
            "padding": null,
            "right": null,
            "top": null,
            "visibility": null,
            "width": null
          }
        },
        "d53f137bec8744a0b4431ccb260b529f": {
          "model_module": "@jupyter-widgets/controls",
          "model_module_version": "1.5.0",
          "model_name": "DescriptionStyleModel",
          "state": {
            "_model_module": "@jupyter-widgets/controls",
            "_model_module_version": "1.5.0",
            "_model_name": "DescriptionStyleModel",
            "_view_count": null,
            "_view_module": "@jupyter-widgets/base",
            "_view_module_version": "1.2.0",
            "_view_name": "StyleView",
            "description_width": ""
          }
        },
        "daef150095bc48e085fe341ac0cd9560": {
          "model_module": "@jupyter-widgets/controls",
          "model_module_version": "1.5.0",
          "model_name": "ProgressStyleModel",
          "state": {
            "_model_module": "@jupyter-widgets/controls",
            "_model_module_version": "1.5.0",
            "_model_name": "ProgressStyleModel",
            "_view_count": null,
            "_view_module": "@jupyter-widgets/base",
            "_view_module_version": "1.2.0",
            "_view_name": "StyleView",
            "bar_color": null,
            "description_width": ""
          }
        },
        "dd8ae7c497fa430495ba3040147fc561": {
          "model_module": "@jupyter-widgets/base",
          "model_module_version": "1.2.0",
          "model_name": "LayoutModel",
          "state": {
            "_model_module": "@jupyter-widgets/base",
            "_model_module_version": "1.2.0",
            "_model_name": "LayoutModel",
            "_view_count": null,
            "_view_module": "@jupyter-widgets/base",
            "_view_module_version": "1.2.0",
            "_view_name": "LayoutView",
            "align_content": null,
            "align_items": null,
            "align_self": null,
            "border": null,
            "bottom": null,
            "display": null,
            "flex": null,
            "flex_flow": null,
            "grid_area": null,
            "grid_auto_columns": null,
            "grid_auto_flow": null,
            "grid_auto_rows": null,
            "grid_column": null,
            "grid_gap": null,
            "grid_row": null,
            "grid_template_areas": null,
            "grid_template_columns": null,
            "grid_template_rows": null,
            "height": null,
            "justify_content": null,
            "justify_items": null,
            "left": null,
            "margin": null,
            "max_height": null,
            "max_width": null,
            "min_height": null,
            "min_width": null,
            "object_fit": null,
            "object_position": null,
            "order": null,
            "overflow": null,
            "overflow_x": null,
            "overflow_y": null,
            "padding": null,
            "right": null,
            "top": null,
            "visibility": null,
            "width": null
          }
        },
        "e69d378521d1475ba5a71e35ee116507": {
          "model_module": "@jupyter-widgets/base",
          "model_module_version": "1.2.0",
          "model_name": "LayoutModel",
          "state": {
            "_model_module": "@jupyter-widgets/base",
            "_model_module_version": "1.2.0",
            "_model_name": "LayoutModel",
            "_view_count": null,
            "_view_module": "@jupyter-widgets/base",
            "_view_module_version": "1.2.0",
            "_view_name": "LayoutView",
            "align_content": null,
            "align_items": null,
            "align_self": null,
            "border": null,
            "bottom": null,
            "display": null,
            "flex": null,
            "flex_flow": null,
            "grid_area": null,
            "grid_auto_columns": null,
            "grid_auto_flow": null,
            "grid_auto_rows": null,
            "grid_column": null,
            "grid_gap": null,
            "grid_row": null,
            "grid_template_areas": null,
            "grid_template_columns": null,
            "grid_template_rows": null,
            "height": null,
            "justify_content": null,
            "justify_items": null,
            "left": null,
            "margin": null,
            "max_height": null,
            "max_width": null,
            "min_height": null,
            "min_width": null,
            "object_fit": null,
            "object_position": null,
            "order": null,
            "overflow": null,
            "overflow_x": null,
            "overflow_y": null,
            "padding": null,
            "right": null,
            "top": null,
            "visibility": null,
            "width": null
          }
        },
        "ece49a52d3f8495ca63c4b0fe2c8cde4": {
          "model_module": "@jupyter-widgets/controls",
          "model_module_version": "1.5.0",
          "model_name": "FloatProgressModel",
          "state": {
            "_dom_classes": [],
            "_model_module": "@jupyter-widgets/controls",
            "_model_module_version": "1.5.0",
            "_model_name": "FloatProgressModel",
            "_view_count": null,
            "_view_module": "@jupyter-widgets/controls",
            "_view_module_version": "1.5.0",
            "_view_name": "ProgressView",
            "bar_style": "success",
            "description": "",
            "description_tooltip": null,
            "layout": "IPY_MODEL_dd8ae7c497fa430495ba3040147fc561",
            "max": 10,
            "min": 0,
            "orientation": "horizontal",
            "style": "IPY_MODEL_daef150095bc48e085fe341ac0cd9560",
            "value": 10
          }
        },
        "f5758b64fbea4b76ae1ff920cfd4465b": {
          "model_module": "@jupyter-widgets/controls",
          "model_module_version": "1.5.0",
          "model_name": "HTMLModel",
          "state": {
            "_dom_classes": [],
            "_model_module": "@jupyter-widgets/controls",
            "_model_module_version": "1.5.0",
            "_model_name": "HTMLModel",
            "_view_count": null,
            "_view_module": "@jupyter-widgets/controls",
            "_view_module_version": "1.5.0",
            "_view_name": "HTMLView",
            "description": "",
            "description_tooltip": null,
            "layout": "IPY_MODEL_7cbbb5b79b9b416398a0aba055ac8bcc",
            "placeholder": "​",
            "style": "IPY_MODEL_d53f137bec8744a0b4431ccb260b529f",
            "value": " 10/10 [4:50:27&lt;00:00, 1743.06s/it]"
          }
        }
      }
    }
  },
  "nbformat": 4,
  "nbformat_minor": 5
}
